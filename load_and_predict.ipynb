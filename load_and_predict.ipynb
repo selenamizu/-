{
 "cells": [
  {
   "cell_type": "code",
   "execution_count": 1,
   "id": "516aa4bf",
   "metadata": {},
   "outputs": [],
   "source": [
    "import numpy as np\n",
    "import os\n",
    "import PIL\n",
    "import PIL.Image\n",
    "import tensorflow as tf\n",
    "import tensorflow.keras.datasets as tfds\n",
    "from tensorflow.keras import datasets, layers, models\n",
    "import matplotlib.pyplot as plt\n",
    "from tensorflow.keras.preprocessing import image\n",
    "from tensorflow.keras.applications.efficientnet_v2 import EfficientNetV2B1\n",
    "from tensorflow.keras.preprocessing import image\n",
    "from tensorflow.keras.models import Model\n",
    "from tensorflow.keras.layers import Dense, GlobalAveragePooling2D\n",
    "from glob import glob"
   ]
  },
  {
   "cell_type": "code",
   "execution_count": 2,
   "id": "1a51b041",
   "metadata": {},
   "outputs": [
    {
     "data": {
      "text/plain": [
       "['C:\\\\Users\\\\Gliwork\\\\Desktop\\\\0-Rojects\\\\2023 Khabarovsk hackaton\\\\prediction\\\\IMG_20230920_142557.jpg',\n",
       " 'C:\\\\Users\\\\Gliwork\\\\Desktop\\\\0-Rojects\\\\2023 Khabarovsk hackaton\\\\prediction\\\\IMG_20230920_142620.jpg',\n",
       " 'C:\\\\Users\\\\Gliwork\\\\Desktop\\\\0-Rojects\\\\2023 Khabarovsk hackaton\\\\prediction\\\\IMG_20230920_142632.jpg',\n",
       " 'C:\\\\Users\\\\Gliwork\\\\Desktop\\\\0-Rojects\\\\2023 Khabarovsk hackaton\\\\prediction\\\\IMG_20230920_142640.jpg',\n",
       " 'C:\\\\Users\\\\Gliwork\\\\Desktop\\\\0-Rojects\\\\2023 Khabarovsk hackaton\\\\prediction\\\\IMG_20230920_142656.jpg']"
      ]
     },
     "execution_count": 2,
     "metadata": {},
     "output_type": "execute_result"
    }
   ],
   "source": [
    "path = os.getcwd()\n",
    "prediction_folder = path + '\\\\prediction'\n",
    "folder = prediction_folder + '\\\\*'\n",
    "files = glob(folder, recursive = True)\n",
    "files"
   ]
  },
  {
   "cell_type": "code",
   "execution_count": 3,
   "id": "aac10fe8",
   "metadata": {},
   "outputs": [],
   "source": [
    "model_path = path + '\\\\efficientnet_40_epochs_model.keras'#efficientnet_model.keras\n",
    "model = tf.keras.models.load_model(model_path)"
   ]
  },
  {
   "cell_type": "code",
   "execution_count": 4,
   "id": "a8c62d44",
   "metadata": {},
   "outputs": [],
   "source": [
    "img_height = 300\n",
    "img_width = 300\n",
    "detail_names_list = ['CS120.01.413', 'CS120.07.442', 'CS150.01.427-01', 'SU160.00.404', 'SU80.01.426', 'SU80.10.409A', 'ЗВТ86.103К-02',\n",
    " 'СВМ.37.060', 'СВМ.37.060А', 'СВП-120.00.060', 'СВП120.42.020', 'СВП120.42.030', 'СК20.01.01.01.406',\n",
    " 'СК20.01.01.02.402', 'СК30.01.01.02.402', 'СК30.01.01.03.403', 'СК50.01.01.404', 'СК50.02.01.411', 'СПО250.14.190']"
   ]
  },
  {
   "cell_type": "code",
   "execution_count": 5,
   "id": "de24eded",
   "metadata": {},
   "outputs": [
    {
     "name": "stdout",
     "output_type": "stream",
     "text": [
      "1/1 [==============================] - 2s 2s/step\n",
      "файл  IMG_20230920_142557.jpg  - артикул:  СВП-120.00.060\n",
      "1/1 [==============================] - 0s 85ms/step\n",
      "файл  IMG_20230920_142620.jpg  - артикул:  СВП-120.00.060\n",
      "1/1 [==============================] - 0s 82ms/step\n",
      "файл  IMG_20230920_142632.jpg  - артикул:  СВП-120.00.060\n",
      "1/1 [==============================] - 0s 87ms/step\n",
      "файл  IMG_20230920_142640.jpg  - артикул:  СВП-120.00.060\n",
      "1/1 [==============================] - 0s 94ms/step\n",
      "файл  IMG_20230920_142656.jpg  - артикул:  СВП-120.00.060\n"
     ]
    }
   ],
   "source": [
    "files = glob(folder, recursive = True)\n",
    "if files!=[]:\n",
    "    for image_path in files:\n",
    "        image = tf.keras.utils.load_img(image_path)\n",
    "        image = tf.image.resize(image, [img_height, img_width])\n",
    "        input_arr = tf.keras.utils.img_to_array(image)\n",
    "        predictions = model.predict(np.array([input_arr]))#(normalized_input_arr)\n",
    "        print('файл ', image_path[image_path.rfind('\\\\')+1:], ' - артикул: ', detail_names_list[np.argmax(predictions)])\n",
    "else:\n",
    "    print('Проблема: Нет фотографий деталей, проверьте папку \"\\prediction\" ')"
   ]
  },
  {
   "cell_type": "code",
   "execution_count": null,
   "id": "63130372",
   "metadata": {},
   "outputs": [],
   "source": []
  },
  {
   "cell_type": "code",
   "execution_count": null,
   "id": "07050b46",
   "metadata": {},
   "outputs": [],
   "source": []
  }
 ],
 "metadata": {
  "kernelspec": {
   "display_name": "Python 3 (ipykernel)",
   "language": "python",
   "name": "python3"
  },
  "language_info": {
   "codemirror_mode": {
    "name": "ipython",
    "version": 3
   },
   "file_extension": ".py",
   "mimetype": "text/x-python",
   "name": "python",
   "nbconvert_exporter": "python",
   "pygments_lexer": "ipython3",
   "version": "3.11.0"
  }
 },
 "nbformat": 4,
 "nbformat_minor": 5
}
